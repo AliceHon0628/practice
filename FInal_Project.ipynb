{
 "cells": [
  {
   "cell_type": "code",
   "execution_count": null,
   "metadata": {
    "collapsed": true
   },
   "outputs": [],
   "source": [
    "#### some helpful imports ####\n",
    "# import autograd functionality\n",
    "import autograd.numpy as np\n",
    "#from autograd.util import flatten_func\n",
    "from autograd.misc.flatten import flatten_func\n",
    "\n",
    "from autograd import grad as compute_grad   \n",
    "\n",
    "# import custom utilities and plotter\n",
    "import hidden_sequence_plotter as plotter\n",
    "\n",
    "# import various other libraries e.g., for plotting, deep copying\n",
    "import copy\n",
    "import matplotlib.pyplot as plt\n",
    "from matplotlib import gridspec\n",
    "\n",
    "\n",
    "# this is needed to compensate for %matplotl+ib notebook's tendancy to blow up images when plotted inline\n",
    "from matplotlib import rcParams\n",
    "rcParams['figure.autolayout'] = True\n",
    "%matplotlib notebook"
   ]
  },
  {
   "cell_type": "code",
   "execution_count": null,
   "metadata": {
    "collapsed": true
   },
   "outputs": [],
   "source": [
    "# load in driver\n",
    "s_1 = np.loadtxt('br.csv')[:,np.newaxis]"
   ]
  }
 ],
 "metadata": {
  "kernelspec": {
   "display_name": "Python 3",
   "language": "python",
   "name": "python3"
  },
  "language_info": {
   "codemirror_mode": {
    "name": "ipython",
    "version": 3
   },
   "file_extension": ".py",
   "mimetype": "text/x-python",
   "name": "python",
   "nbconvert_exporter": "python",
   "pygments_lexer": "ipython3",
   "version": "3.6.0"
  }
 },
 "nbformat": 4,
 "nbformat_minor": 2
}
